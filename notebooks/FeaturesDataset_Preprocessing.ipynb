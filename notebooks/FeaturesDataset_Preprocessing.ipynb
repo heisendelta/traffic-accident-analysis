{
  "cells": [
    {
      "cell_type": "code",
      "execution_count": 5,
      "metadata": {},
      "outputs": [],
      "source": [
        "import io\n",
        "\n",
        "import pandas as pd\n",
        "import numpy as np\n",
        "import matplotlib.pyplot as plt\n",
        "\n",
        "import folium\n",
        "import selenium\n",
        "import h5py\n",
        "\n",
        "from PIL import Image\n",
        "import cv2"
      ]
    },
    {
      "cell_type": "code",
      "execution_count": 6,
      "metadata": {
        "id": "ahUGRFhColMb"
      },
      "outputs": [],
      "source": [
        "all_features = pd.read_pickle(r'../data/all_features.pkl')\n",
        "all_features = all_features.sort_values(by='mesh_id').reset_index(drop=True)\n",
        "all_features = all_features[['mesh_id', 'latitude', 'longitude', 'area', 'prefecture']]\n",
        "all_features = all_features.drop_duplicates(subset=['mesh_id'], keep='first')\n",
        "\n",
        "reports_selected = pd.read_csv(r'../data/reports_selected.csv')"
      ]
    },
    {
      "cell_type": "code",
      "execution_count": 7,
      "metadata": {},
      "outputs": [],
      "source": [
        "lat_width = 75 / 9000\n",
        "lon_height = 0.0125\n",
        "\n",
        "bottom_lat = 35.7015082\n",
        "bottom_lon = 139.5221197"
      ]
    },
    {
      "cell_type": "code",
      "execution_count": 8,
      "metadata": {},
      "outputs": [],
      "source": [
        "def gradient(img):\n",
        "    kernel = np.ones((5, 5), np.uint8)\n",
        "    imgf = cv2.morphologyEx(img, cv2.MORPH_GRADIENT, kernel)\n",
        "    return imgf\n",
        "\n",
        "def erosion(img):\n",
        "    kernel = np.ones((3, 3), np.uint8)\n",
        "    imgf = cv2.erode(img, kernel, iterations=1)\n",
        "    return imgf"
      ]
    },
    {
      "cell_type": "code",
      "execution_count": 9,
      "metadata": {
        "colab": {
          "base_uri": "https://localhost:8080/",
          "height": 781
        },
        "id": "gxUz-NZ46XRw",
        "outputId": "592cf4c5-7e2f-492a-95b4-d70975de019b"
      },
      "outputs": [],
      "source": [
        "def preprocessed_image_from_coords(lat, lon, resize=True):\n",
        "    # -------------------\n",
        "    # Creating folium map\n",
        "    # -------------------\n",
        "\n",
        "    north = lat + lat_width\n",
        "    south = lat\n",
        "    east = lon + lon_height\n",
        "    west = lon\n",
        "\n",
        "    def mean(x, y):\n",
        "        return (x + y) / 2\n",
        "\n",
        "    map_obj = folium.Map(location=[\n",
        "        mean(north, south), mean(east, west)], tiles='Cartodb dark_matter no_labels')\n",
        "\n",
        "    square_coordinates = [\n",
        "        (south, west),\n",
        "        (north, west),\n",
        "        (north, east),\n",
        "        (south, east),\n",
        "        (south, west)\n",
        "    ]\n",
        "\n",
        "    folium.PolyLine(\n",
        "        locations=square_coordinates,\n",
        "        weight=7,\n",
        "    ).add_to(map_obj)\n",
        "\n",
        "    map_obj.fit_bounds([(south, west), (north, east)])\n",
        "\n",
        "    # ------------------------\n",
        "    # Save folium map to image\n",
        "    # ------------------------\n",
        "\n",
        "    timeout = 1\n",
        "\n",
        "    img_data = map_obj._to_png(timeout)\n",
        "    img = Image.open(io.BytesIO(img_data))\n",
        "\n",
        "    # ---------------------------\n",
        "    # Detect blue box around mesh\n",
        "    # ---------------------------\n",
        "\n",
        "    image_np = np.array(img)\n",
        "    border_thickness = 8\n",
        "\n",
        "    if image_np.shape[-1] == 4:  # Handle RGBA\n",
        "        image_np = cv2.cvtColor(image_np, cv2.COLOR_RGBA2BGR)\n",
        "    else:\n",
        "        image_np = cv2.cvtColor(image_np, cv2.COLOR_RGB2BGR)\n",
        "\n",
        "    hsv = cv2.cvtColor(image_np, cv2.COLOR_BGR2HSV)\n",
        "    lower_blue = np.array([100, 150, 50])\n",
        "    upper_blue = np.array([140, 255, 255])\n",
        "\n",
        "    mask = cv2.inRange(hsv, lower_blue, upper_blue)\n",
        "\n",
        "    contours, _ = cv2.findContours(mask, cv2.RETR_EXTERNAL, cv2.CHAIN_APPROX_SIMPLE)\n",
        "\n",
        "    if not contours:\n",
        "        raise ValueError(\"No blue box detected in the image.\")\n",
        "\n",
        "    largest_contour = max(contours, key=cv2.contourArea)\n",
        "    x, y, w, h = cv2.boundingRect(largest_contour)\n",
        "\n",
        "    x_min = x + border_thickness\n",
        "    y_min = y + border_thickness\n",
        "    x_max = x + w - border_thickness\n",
        "    y_max = y + h - border_thickness\n",
        "\n",
        "    y_min, y_max = min(y_min, y_max), max(y_min, y_max)\n",
        "    x_min, x_max = min(x_min, x_max), max(x_min, x_max)\n",
        "\n",
        "    cropped_np = image_np[y_min:y_max, x_min:x_max]\n",
        "    cv2_image = cv2.cvtColor(cropped_np, cv2.COLOR_BGR2RGB)\n",
        "\n",
        "    cv2_image_copy = cv2_image.copy()\n",
        "\n",
        "    lab = cv2.cvtColor(cv2_image_copy, cv2.COLOR_BGR2LAB)\n",
        "    l_channel, a, b = cv2.split(lab)\n",
        "\n",
        "    clahe = cv2.createCLAHE(clipLimit=15.0, tileGridSize=(8, 8))\n",
        "    cl = clahe.apply(l_channel)\n",
        "\n",
        "    limg = cv2.merge((cl, a, b))\n",
        "\n",
        "    enhanced_img = cv2.cvtColor(limg, cv2.COLOR_LAB2BGR)\n",
        "    enhanced_img = gradient(enhanced_img)\n",
        "\n",
        "    # --------------------------\n",
        "    # Apply Canny edge detection\n",
        "    # --------------------------\n",
        "\n",
        "    edges = cv2.Canny(enhanced_img, 50, 150)\n",
        "\n",
        "    if resize:\n",
        "        standard_size = (256, 256)\n",
        "        resized_edges = cv2.resize(edges, standard_size, interpolation=cv2.INTER_AREA)\n",
        "    else:\n",
        "        resized_edges = edges\n",
        "\n",
        "    return resized_edges"
      ]
    },
    {
      "cell_type": "code",
      "execution_count": 10,
      "metadata": {},
      "outputs": [],
      "source": [
        "from concurrent.futures import ThreadPoolExecutor\n",
        "from tqdm import tqdm"
      ]
    },
    {
      "cell_type": "code",
      "execution_count": 11,
      "metadata": {},
      "outputs": [],
      "source": [
        "def process_row(row):\n",
        "    latitude, longitude = row.latitude, row.longitude\n",
        "    return preprocessed_image_from_coords(latitude, longitude)\n",
        "\n",
        "def create_hdf5_dataset(df, dataset_name='features', target_shape=(256, 256), batch_size=100):\n",
        "    num_samples = len(df)\n",
        "    hdf5_filename = fr'../datasets/{dataset_name}.h5'\n",
        "\n",
        "    with h5py.File(hdf5_filename, 'w') as hdf5_file:\n",
        "        dataset = hdf5_file.create_dataset(\n",
        "            dataset_name,\n",
        "            shape=(num_samples, *target_shape),\n",
        "            dtype=np.uint8,\n",
        "            compression='gzip',\n",
        "            compression_opts=9\n",
        "        )\n",
        "\n",
        "        with ThreadPoolExecutor() as executor:\n",
        "            for batch_start in tqdm(range(0, num_samples, batch_size), desc=\"Processing Batches\"):\n",
        "                batch_end = min(batch_start + batch_size, num_samples)\n",
        "                batch_rows = df.iloc[batch_start:batch_end]\n",
        "\n",
        "                batch_results = list(executor.map(process_row, batch_rows.itertuples(index=False)))\n",
        "\n",
        "                dataset[batch_start:batch_end] = np.array(batch_results, dtype=np.uint8)\n",
        "\n",
        "    print(f\"Features dataset saved as {hdf5_filename}\")"
      ]
    },
    {
      "cell_type": "code",
      "execution_count": null,
      "metadata": {},
      "outputs": [
        {
          "name": "stderr",
          "output_type": "stream",
          "text": [
            "Processing Batches:   0%|          | 0/153 [00:00<?, ?it/s]"
          ]
        }
      ],
      "source": [
        "create_hdf5_dataset(\n",
        "    all_features,\n",
        "    dataset_name='features1',\n",
        "    target_shape=(256, 256),\n",
        "    batch_size=100\n",
        ")"
      ]
    }
  ],
  "metadata": {
    "colab": {
      "provenance": []
    },
    "kernelspec": {
      "display_name": "traffic-accident-analysis-K9TuC2qz",
      "language": "python",
      "name": "python3"
    },
    "language_info": {
      "codemirror_mode": {
        "name": "ipython",
        "version": 3
      },
      "file_extension": ".py",
      "mimetype": "text/x-python",
      "name": "python",
      "nbconvert_exporter": "python",
      "pygments_lexer": "ipython3",
      "version": "3.11.3"
    }
  },
  "nbformat": 4,
  "nbformat_minor": 0
}
